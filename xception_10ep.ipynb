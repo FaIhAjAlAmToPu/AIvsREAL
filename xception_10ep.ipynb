{
 "cells": [
  {
   "cell_type": "code",
   "execution_count": 1,
   "id": "e2809fab",
   "metadata": {
    "execution": {
     "iopub.execute_input": "2025-01-19T19:07:41.390505Z",
     "iopub.status.busy": "2025-01-19T19:07:41.390214Z",
     "iopub.status.idle": "2025-01-19T19:07:42.067571Z",
     "shell.execute_reply": "2025-01-19T19:07:42.066591Z"
    },
    "papermill": {
     "duration": 0.682497,
     "end_time": "2025-01-19T19:07:42.069281",
     "exception": false,
     "start_time": "2025-01-19T19:07:41.386784",
     "status": "completed"
    },
    "tags": []
   },
   "outputs": [],
   "source": [
    "!mkdir /kaggle/working/train\n",
    "!ln -s /kaggle/input/sp-cup-train-dataset/train_fake/fake /kaggle/working/train/fake\n",
    "!ln -s /kaggle/input/sp-cup-train-dataset/train_real/real /kaggle/working/train/real\n",
    "\n",
    "!mkdir /kaggle/working/test\n",
    "!ln -s /kaggle/input/sp-cup-fake-validation/valid_fake/fake /kaggle/working/test/fake\n",
    "!ln -s /kaggle/input/sp-cup-fake-validation/valid_real/real /kaggle/working/test/real"
   ]
  },
  {
   "cell_type": "code",
   "execution_count": 2,
   "id": "7a6c0b56",
   "metadata": {
    "execution": {
     "iopub.execute_input": "2025-01-19T19:07:42.074798Z",
     "iopub.status.busy": "2025-01-19T19:07:42.074521Z",
     "iopub.status.idle": "2025-01-19T19:07:58.163133Z",
     "shell.execute_reply": "2025-01-19T19:07:58.161929Z"
    },
    "papermill": {
     "duration": 16.093001,
     "end_time": "2025-01-19T19:07:58.164834",
     "exception": false,
     "start_time": "2025-01-19T19:07:42.071833",
     "status": "completed"
    },
    "tags": []
   },
   "outputs": [
    {
     "name": "stdout",
     "output_type": "stream",
     "text": [
      "Downloading data from https://storage.googleapis.com/tensorflow/keras-applications/xception/xception_weights_tf_dim_ordering_tf_kernels_notop.h5\n",
      "\u001b[1m83683744/83683744\u001b[0m \u001b[32m━━━━━━━━━━━━━━━━━━━━\u001b[0m\u001b[37m\u001b[0m \u001b[1m0s\u001b[0m 0us/step\n"
     ]
    }
   ],
   "source": [
    "from tensorflow.keras.applications import Xception  \n",
    "from tensorflow.keras.models import Model  \n",
    "from tensorflow.keras.layers import Dense, GlobalAveragePooling2D  \n",
    "from tensorflow.keras.preprocessing.image import ImageDataGenerator  \n",
    "\n",
    "base_model = Xception(weights='imagenet', include_top=False)  \n",
    "x = base_model.output  \n",
    "x = GlobalAveragePooling2D()(x)  \n",
    "x = Dense(1024, activation='relu')(x)  \n",
    "predictions = Dense(2, activation='softmax')(x) \n",
    "\n",
    "model = Model(inputs=base_model.input, outputs=predictions)  \n",
    "\n",
    "# Freeze the base model layers  \n",
    "for layer in base_model.layers:  \n",
    "    layer.trainable = False"
   ]
  },
  {
   "cell_type": "code",
   "execution_count": 3,
   "id": "2c2c5722",
   "metadata": {
    "execution": {
     "iopub.execute_input": "2025-01-19T19:07:58.171978Z",
     "iopub.status.busy": "2025-01-19T19:07:58.171541Z",
     "iopub.status.idle": "2025-01-19T19:07:58.183347Z",
     "shell.execute_reply": "2025-01-19T19:07:58.182569Z"
    },
    "papermill": {
     "duration": 0.016982,
     "end_time": "2025-01-19T19:07:58.184559",
     "exception": false,
     "start_time": "2025-01-19T19:07:58.167577",
     "status": "completed"
    },
    "tags": []
   },
   "outputs": [],
   "source": [
    "model.compile(optimizer='adam', loss='categorical_crossentropy', metrics=['accuracy'])"
   ]
  },
  {
   "cell_type": "code",
   "execution_count": 4,
   "id": "c86e6de3",
   "metadata": {
    "execution": {
     "iopub.execute_input": "2025-01-19T19:07:58.189847Z",
     "iopub.status.busy": "2025-01-19T19:07:58.189607Z",
     "iopub.status.idle": "2025-01-19T19:13:34.620234Z",
     "shell.execute_reply": "2025-01-19T19:13:34.619288Z"
    },
    "papermill": {
     "duration": 336.435304,
     "end_time": "2025-01-19T19:13:34.622197",
     "exception": false,
     "start_time": "2025-01-19T19:07:58.186893",
     "status": "completed"
    },
    "tags": []
   },
   "outputs": [
    {
     "name": "stdout",
     "output_type": "stream",
     "text": [
      "Found 209728 images belonging to 2 classes.\n",
      "Found 52432 images belonging to 2 classes.\n"
     ]
    }
   ],
   "source": [
    "train_datagen = ImageDataGenerator(rescale=1./255, validation_split=0.2)  \n",
    "train_generator = train_datagen.flow_from_directory(  \n",
    "    '/kaggle/working/train',  # Path to your training data  \n",
    "    target_size=(299, 299),  \n",
    "    batch_size=32,  \n",
    "    class_mode='categorical',  \n",
    "    subset='training')  \n",
    "validation_generator = train_datagen.flow_from_directory(  \n",
    "    '/kaggle/working/train',  \n",
    "    target_size=(299, 299),  \n",
    "    batch_size=32,  \n",
    "    class_mode='categorical',  \n",
    "    subset='validation')"
   ]
  },
  {
   "cell_type": "code",
   "execution_count": 5,
   "id": "aa0be01c",
   "metadata": {
    "execution": {
     "iopub.execute_input": "2025-01-19T19:13:34.631920Z",
     "iopub.status.busy": "2025-01-19T19:13:34.631669Z",
     "iopub.status.idle": "2025-01-19T23:59:42.531953Z",
     "shell.execute_reply": "2025-01-19T23:59:42.530998Z"
    },
    "papermill": {
     "duration": 17171.385555,
     "end_time": "2025-01-19T23:59:46.012394",
     "exception": false,
     "start_time": "2025-01-19T19:13:34.626839",
     "status": "completed"
    },
    "tags": []
   },
   "outputs": [
    {
     "name": "stdout",
     "output_type": "stream",
     "text": [
      "Epoch 1/10\n"
     ]
    },
    {
     "name": "stderr",
     "output_type": "stream",
     "text": [
      "/usr/local/lib/python3.10/dist-packages/keras/src/trainers/data_adapters/py_dataset_adapter.py:122: UserWarning: Your `PyDataset` class should call `super().__init__(**kwargs)` in its constructor. `**kwargs` can include `workers`, `use_multiprocessing`, `max_queue_size`. Do not pass these arguments to `fit()`, as they will be ignored.\n",
      "  self._warn_if_super_not_called()\n"
     ]
    },
    {
     "name": "stdout",
     "output_type": "stream",
     "text": [
      "\u001b[1m6554/6554\u001b[0m \u001b[32m━━━━━━━━━━━━━━━━━━━━\u001b[0m\u001b[37m\u001b[0m \u001b[1m2735s\u001b[0m 415ms/step - accuracy: 0.8360 - loss: 0.4289 - val_accuracy: 0.8387 - val_loss: 0.3936\n",
      "Epoch 2/10\n",
      "\u001b[1m6554/6554\u001b[0m \u001b[32m━━━━━━━━━━━━━━━━━━━━\u001b[0m\u001b[37m\u001b[0m \u001b[1m1821s\u001b[0m 278ms/step - accuracy: 0.8407 - loss: 0.3894 - val_accuracy: 0.8437 - val_loss: 0.3828\n",
      "Epoch 3/10\n",
      "\u001b[1m6554/6554\u001b[0m \u001b[32m━━━━━━━━━━━━━━━━━━━━\u001b[0m\u001b[37m\u001b[0m \u001b[1m1628s\u001b[0m 248ms/step - accuracy: 0.8479 - loss: 0.3678 - val_accuracy: 0.8471 - val_loss: 0.3697\n",
      "Epoch 4/10\n",
      "\u001b[1m6554/6554\u001b[0m \u001b[32m━━━━━━━━━━━━━━━━━━━━\u001b[0m\u001b[37m\u001b[0m \u001b[1m1556s\u001b[0m 237ms/step - accuracy: 0.8527 - loss: 0.3496 - val_accuracy: 0.8530 - val_loss: 0.3498\n",
      "Epoch 5/10\n",
      "\u001b[1m6554/6554\u001b[0m \u001b[32m━━━━━━━━━━━━━━━━━━━━\u001b[0m\u001b[37m\u001b[0m \u001b[1m1577s\u001b[0m 240ms/step - accuracy: 0.8578 - loss: 0.3375 - val_accuracy: 0.8541 - val_loss: 0.3473\n",
      "Epoch 6/10\n",
      "\u001b[1m6554/6554\u001b[0m \u001b[32m━━━━━━━━━━━━━━━━━━━━\u001b[0m\u001b[37m\u001b[0m \u001b[1m1582s\u001b[0m 241ms/step - accuracy: 0.8634 - loss: 0.3208 - val_accuracy: 0.8578 - val_loss: 0.3493\n",
      "Epoch 7/10\n",
      "\u001b[1m6554/6554\u001b[0m \u001b[32m━━━━━━━━━━━━━━━━━━━━\u001b[0m\u001b[37m\u001b[0m \u001b[1m1558s\u001b[0m 238ms/step - accuracy: 0.8673 - loss: 0.3105 - val_accuracy: 0.8592 - val_loss: 0.3319\n",
      "Epoch 8/10\n",
      "\u001b[1m6554/6554\u001b[0m \u001b[32m━━━━━━━━━━━━━━━━━━━━\u001b[0m\u001b[37m\u001b[0m \u001b[1m1550s\u001b[0m 236ms/step - accuracy: 0.8710 - loss: 0.3004 - val_accuracy: 0.8625 - val_loss: 0.3291\n",
      "Epoch 9/10\n",
      "\u001b[1m6554/6554\u001b[0m \u001b[32m━━━━━━━━━━━━━━━━━━━━\u001b[0m\u001b[37m\u001b[0m \u001b[1m1599s\u001b[0m 244ms/step - accuracy: 0.8744 - loss: 0.2909 - val_accuracy: 0.8599 - val_loss: 0.3350\n",
      "Epoch 10/10\n",
      "\u001b[1m6554/6554\u001b[0m \u001b[32m━━━━━━━━━━━━━━━━━━━━\u001b[0m\u001b[37m\u001b[0m \u001b[1m1560s\u001b[0m 238ms/step - accuracy: 0.8787 - loss: 0.2821 - val_accuracy: 0.8639 - val_loss: 0.3174\n"
     ]
    },
    {
     "data": {
      "text/plain": [
       "<keras.src.callbacks.history.History at 0x7eac62456770>"
      ]
     },
     "execution_count": 5,
     "metadata": {},
     "output_type": "execute_result"
    }
   ],
   "source": [
    "model.fit(train_generator, validation_data=validation_generator, epochs=10)"
   ]
  },
  {
   "cell_type": "code",
   "execution_count": 6,
   "id": "44dd7be2",
   "metadata": {
    "execution": {
     "iopub.execute_input": "2025-01-19T23:59:52.659276Z",
     "iopub.status.busy": "2025-01-19T23:59:52.658905Z",
     "iopub.status.idle": "2025-01-19T23:59:53.175472Z",
     "shell.execute_reply": "2025-01-19T23:59:53.174743Z"
    },
    "papermill": {
     "duration": 3.856198,
     "end_time": "2025-01-19T23:59:53.177117",
     "exception": false,
     "start_time": "2025-01-19T23:59:49.320919",
     "status": "completed"
    },
    "tags": []
   },
   "outputs": [],
   "source": [
    "model.save('xception_model.h5')"
   ]
  },
  {
   "cell_type": "code",
   "execution_count": 7,
   "id": "3255df7c",
   "metadata": {
    "execution": {
     "iopub.execute_input": "2025-01-19T23:59:59.911764Z",
     "iopub.status.busy": "2025-01-19T23:59:59.911416Z",
     "iopub.status.idle": "2025-01-20T00:00:04.184416Z",
     "shell.execute_reply": "2025-01-20T00:00:04.183526Z"
    },
    "papermill": {
     "duration": 7.584719,
     "end_time": "2025-01-20T00:00:04.185700",
     "exception": false,
     "start_time": "2025-01-19T23:59:56.600981",
     "status": "completed"
    },
    "tags": []
   },
   "outputs": [
    {
     "name": "stdout",
     "output_type": "stream",
     "text": [
      "Found 3072 images belonging to 2 classes.\n"
     ]
    }
   ],
   "source": [
    "from tensorflow.keras.preprocessing.image import ImageDataGenerator  \n",
    "\n",
    "# Create a test data generator  \n",
    "test_datagen = ImageDataGenerator(rescale=1./255)  \n",
    "\n",
    "test_generator = test_datagen.flow_from_directory(  \n",
    "    '/kaggle/working/test',  # Path to your test dataset  \n",
    "    target_size=(299, 299),  # Resize the images to match the input size  \n",
    "    batch_size=32,  \n",
    "    class_mode='categorical',  # Set to 'categorical' for multi-class  \n",
    "    shuffle=False  # Important: Do not shuffle the test data  \n",
    ")"
   ]
  },
  {
   "cell_type": "code",
   "execution_count": 8,
   "id": "e026c16c",
   "metadata": {
    "execution": {
     "iopub.execute_input": "2025-01-20T00:00:10.929158Z",
     "iopub.status.busy": "2025-01-20T00:00:10.928800Z",
     "iopub.status.idle": "2025-01-20T00:00:39.051252Z",
     "shell.execute_reply": "2025-01-20T00:00:39.050457Z"
    },
    "papermill": {
     "duration": 31.419709,
     "end_time": "2025-01-20T00:00:39.052524",
     "exception": false,
     "start_time": "2025-01-20T00:00:07.632815",
     "status": "completed"
    },
    "tags": []
   },
   "outputs": [
    {
     "name": "stdout",
     "output_type": "stream",
     "text": [
      "\u001b[1m96/96\u001b[0m \u001b[32m━━━━━━━━━━━━━━━━━━━━\u001b[0m\u001b[37m\u001b[0m \u001b[1m28s\u001b[0m 286ms/step - accuracy: 0.8374 - loss: 0.4818\n"
     ]
    }
   ],
   "source": [
    "# Evaluate the model on the test data  \n",
    "test_loss, test_accuracy = model.evaluate(test_generator)"
   ]
  }
 ],
 "metadata": {
  "kaggle": {
   "accelerator": "gpu",
   "dataSources": [
    {
     "datasetId": 6096324,
     "sourceId": 9919619,
     "sourceType": "datasetVersion"
    },
    {
     "datasetId": 5820460,
     "sourceId": 9552580,
     "sourceType": "datasetVersion"
    },
    {
     "datasetId": 6096107,
     "sourceId": 9919346,
     "sourceType": "datasetVersion"
    }
   ],
   "dockerImageVersionId": 30839,
   "isGpuEnabled": true,
   "isInternetEnabled": true,
   "language": "python",
   "sourceType": "notebook"
  },
  "kernelspec": {
   "display_name": "Python 3",
   "language": "python",
   "name": "python3"
  },
  "language_info": {
   "codemirror_mode": {
    "name": "ipython",
    "version": 3
   },
   "file_extension": ".py",
   "mimetype": "text/x-python",
   "name": "python",
   "nbconvert_exporter": "python",
   "pygments_lexer": "ipython3",
   "version": "3.10.12"
  },
  "papermill": {
   "default_parameters": {},
   "duration": 17587.195565,
   "end_time": "2025-01-20T00:00:45.973118",
   "environment_variables": {},
   "exception": null,
   "input_path": "__notebook__.ipynb",
   "output_path": "__notebook__.ipynb",
   "parameters": {},
   "start_time": "2025-01-19T19:07:38.777553",
   "version": "2.6.0"
  }
 },
 "nbformat": 4,
 "nbformat_minor": 5
}
