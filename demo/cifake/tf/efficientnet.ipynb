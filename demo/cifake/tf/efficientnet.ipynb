{
 "cells": [
  {
   "cell_type": "code",
   "execution_count": 1,
   "id": "11e7c2ac",
   "metadata": {
    "_cell_guid": "b1076dfc-b9ad-4769-8c92-a6c4dae69d19",
    "_uuid": "8f2839f25d086af736a60e9eeb907d3b93b6e0e5",
    "execution": {
     "iopub.execute_input": "2025-01-19T16:38:27.413216Z",
     "iopub.status.busy": "2025-01-19T16:38:27.412503Z",
     "iopub.status.idle": "2025-01-19T16:38:40.252430Z",
     "shell.execute_reply": "2025-01-19T16:38:40.251650Z"
    },
    "papermill": {
     "duration": 12.846364,
     "end_time": "2025-01-19T16:38:40.254597",
     "exception": false,
     "start_time": "2025-01-19T16:38:27.408233",
     "status": "completed"
    },
    "tags": []
   },
   "outputs": [],
   "source": [
    "import tensorflow as tf\n",
    "from tensorflow.keras import layers\n",
    "from tensorflow.keras.applications import EfficientNetB0\n",
    "from kaggle_datasets import KaggleDatasets\n",
    "\n",
    "# Step 1: Initialize TPU\n",
    "# try:\n",
    "#     tpu = tf.distribute.cluster_resolver.TPUClusterResolver()  # Detect TPU\n",
    "#     tf.config.experimental_connect_to_cluster(tpu)\n",
    "#     tf.tpu.experimental.initialize_tpu_system(tpu)\n",
    "#     strategy = tf.distribute.TPUStrategy(tpu)\n",
    "#     print(\"All TPU devices: \", tf.config.list_logical_devices('TPU'))\n",
    "# except ValueError:\n",
    "#     print(\"TPU not found.\")\n",
    "\n",
    "strategy = tf.distribute.OneDeviceStrategy(device=\"/gpu:0\")\n",
    "# mirrored_strategy = tf.distribute.MirroredStrategy(devices=[\"/gpu:0\", \"/gpu:1\"])"
   ]
  },
  {
   "cell_type": "markdown",
   "id": "253e3a7a",
   "metadata": {
    "papermill": {
     "duration": 0.001927,
     "end_time": "2025-01-19T16:38:40.259084",
     "exception": false,
     "start_time": "2025-01-19T16:38:40.257157",
     "status": "completed"
    },
    "tags": []
   },
   "source": [
    "# Use GPU"
   ]
  },
  {
   "cell_type": "code",
   "execution_count": 2,
   "id": "87db79cf",
   "metadata": {
    "execution": {
     "iopub.execute_input": "2025-01-19T16:38:40.264872Z",
     "iopub.status.busy": "2025-01-19T16:38:40.264003Z",
     "iopub.status.idle": "2025-01-19T16:38:40.269412Z",
     "shell.execute_reply": "2025-01-19T16:38:40.268553Z"
    },
    "papermill": {
     "duration": 0.009967,
     "end_time": "2025-01-19T16:38:40.271104",
     "exception": false,
     "start_time": "2025-01-19T16:38:40.261137",
     "status": "completed"
    },
    "tags": []
   },
   "outputs": [
    {
     "name": "stdout",
     "output_type": "stream",
     "text": [
      "Num GPUs Available:  1\n"
     ]
    }
   ],
   "source": [
    "import tensorflow as tf\n",
    "print(\"Num GPUs Available: \", len(tf.config.list_physical_devices('GPU')))"
   ]
  },
  {
   "cell_type": "markdown",
   "id": "83c2d608",
   "metadata": {
    "papermill": {
     "duration": 0.001948,
     "end_time": "2025-01-19T16:38:40.275167",
     "exception": false,
     "start_time": "2025-01-19T16:38:40.273219",
     "status": "completed"
    },
    "tags": []
   },
   "source": [
    "# Dataset "
   ]
  },
  {
   "cell_type": "code",
   "execution_count": 3,
   "id": "459a0b60",
   "metadata": {
    "execution": {
     "iopub.execute_input": "2025-01-19T16:38:40.280613Z",
     "iopub.status.busy": "2025-01-19T16:38:40.280309Z",
     "iopub.status.idle": "2025-01-19T16:38:40.284282Z",
     "shell.execute_reply": "2025-01-19T16:38:40.283437Z"
    },
    "papermill": {
     "duration": 0.008704,
     "end_time": "2025-01-19T16:38:40.285882",
     "exception": false,
     "start_time": "2025-01-19T16:38:40.277178",
     "status": "completed"
    },
    "tags": []
   },
   "outputs": [],
   "source": [
    "import keras"
   ]
  },
  {
   "cell_type": "code",
   "execution_count": 4,
   "id": "c974084a",
   "metadata": {
    "execution": {
     "iopub.execute_input": "2025-01-19T16:38:40.290941Z",
     "iopub.status.busy": "2025-01-19T16:38:40.290694Z",
     "iopub.status.idle": "2025-01-19T16:39:26.847663Z",
     "shell.execute_reply": "2025-01-19T16:39:26.846728Z"
    },
    "papermill": {
     "duration": 46.561938,
     "end_time": "2025-01-19T16:39:26.849871",
     "exception": false,
     "start_time": "2025-01-19T16:38:40.287933",
     "status": "completed"
    },
    "tags": []
   },
   "outputs": [
    {
     "name": "stdout",
     "output_type": "stream",
     "text": [
      "Found 100000 files belonging to 2 classes.\n",
      "Using 80000 files for training.\n",
      "Using 20000 files for validation.\n"
     ]
    }
   ],
   "source": [
    "image_size = (224, 224)\n",
    "batch_size = 128\n",
    "\n",
    "train_ds, val_ds = keras.utils.image_dataset_from_directory(\n",
    "    \"/kaggle/input/cifake-real-and-ai-generated-synthetic-images/train\",\n",
    "    validation_split=0.2,\n",
    "    subset=\"both\",\n",
    "    seed=1337,\n",
    "    image_size=image_size,\n",
    "    batch_size=batch_size,\n",
    ")"
   ]
  },
  {
   "cell_type": "code",
   "execution_count": 5,
   "id": "69c05700",
   "metadata": {
    "_cell_guid": "b1076dfc-b9ad-4769-8c92-a6c4dae69d19",
    "_uuid": "8f2839f25d086af736a60e9eeb907d3b93b6e0e5",
    "execution": {
     "iopub.execute_input": "2025-01-19T16:39:26.857868Z",
     "iopub.status.busy": "2025-01-19T16:39:26.857079Z",
     "iopub.status.idle": "2025-01-19T16:40:49.724535Z",
     "shell.execute_reply": "2025-01-19T16:40:49.723764Z"
    },
    "papermill": {
     "duration": 82.872987,
     "end_time": "2025-01-19T16:40:49.726555",
     "exception": false,
     "start_time": "2025-01-19T16:39:26.853568",
     "status": "completed"
    },
    "tags": []
   },
   "outputs": [
    {
     "name": "stdout",
     "output_type": "stream",
     "text": [
      "Downloading data from https://storage.googleapis.com/keras-applications/efficientnetb0_notop.h5\n",
      "\u001b[1m16705208/16705208\u001b[0m \u001b[32m━━━━━━━━━━━━━━━━━━━━\u001b[0m\u001b[37m\u001b[0m \u001b[1m1s\u001b[0m 0us/step\n",
      "Epoch 1/10\n"
     ]
    },
    {
     "name": "stderr",
     "output_type": "stream",
     "text": [
      "2025-01-19 16:40:00.292155: E tensorflow/core/grappler/optimizers/meta_optimizer.cc:961] layout failed: INVALID_ARGUMENT: Size of values 0 does not match size of permutation 4 @ fanin shape inStatefulPartitionedCall/sequential_1/efficientnetb0_1/block2b_drop_1/stateless_dropout/SelectV2-2-TransposeNHWCToNCHW-LayoutOptimizer\n"
     ]
    },
    {
     "name": "stdout",
     "output_type": "stream",
     "text": [
      "\u001b[1m4/4\u001b[0m \u001b[32m━━━━━━━━━━━━━━━━━━━━\u001b[0m\u001b[37m\u001b[0m \u001b[1m47s\u001b[0m 2s/step - accuracy: 0.6372 - loss: 0.6142 - val_accuracy: 0.6875 - val_loss: 0.5834\n",
      "Epoch 2/10\n",
      "\u001b[1m4/4\u001b[0m \u001b[32m━━━━━━━━━━━━━━━━━━━━\u001b[0m\u001b[37m\u001b[0m \u001b[1m4s\u001b[0m 927ms/step - accuracy: 0.8823 - loss: 0.2655 - val_accuracy: 0.6016 - val_loss: 0.8035\n",
      "Epoch 3/10\n",
      "\u001b[1m4/4\u001b[0m \u001b[32m━━━━━━━━━━━━━━━━━━━━\u001b[0m\u001b[37m\u001b[0m \u001b[1m4s\u001b[0m 937ms/step - accuracy: 0.8766 - loss: 0.2912 - val_accuracy: 0.6484 - val_loss: 0.9052\n",
      "Epoch 4/10\n",
      "\u001b[1m4/4\u001b[0m \u001b[32m━━━━━━━━━━━━━━━━━━━━\u001b[0m\u001b[37m\u001b[0m \u001b[1m4s\u001b[0m 924ms/step - accuracy: 0.8831 - loss: 0.2819 - val_accuracy: 0.5391 - val_loss: 1.8056\n",
      "Epoch 5/10\n",
      "\u001b[1m4/4\u001b[0m \u001b[32m━━━━━━━━━━━━━━━━━━━━\u001b[0m\u001b[37m\u001b[0m \u001b[1m4s\u001b[0m 926ms/step - accuracy: 0.9484 - loss: 0.1687 - val_accuracy: 0.5469 - val_loss: 2.1214\n",
      "Epoch 6/10\n",
      "\u001b[1m4/4\u001b[0m \u001b[32m━━━━━━━━━━━━━━━━━━━━\u001b[0m\u001b[37m\u001b[0m \u001b[1m4s\u001b[0m 925ms/step - accuracy: 0.9120 - loss: 0.2046 - val_accuracy: 0.5469 - val_loss: 2.0106\n",
      "Epoch 7/10\n",
      "\u001b[1m4/4\u001b[0m \u001b[32m━━━━━━━━━━━━━━━━━━━━\u001b[0m\u001b[37m\u001b[0m \u001b[1m4s\u001b[0m 936ms/step - accuracy: 0.9065 - loss: 0.2027 - val_accuracy: 0.5391 - val_loss: 2.3171\n",
      "Epoch 8/10\n",
      "\u001b[1m4/4\u001b[0m \u001b[32m━━━━━━━━━━━━━━━━━━━━\u001b[0m\u001b[37m\u001b[0m \u001b[1m4s\u001b[0m 938ms/step - accuracy: 0.9435 - loss: 0.1416 - val_accuracy: 0.5312 - val_loss: 3.5001\n",
      "Epoch 9/10\n",
      "\u001b[1m4/4\u001b[0m \u001b[32m━━━━━━━━━━━━━━━━━━━━\u001b[0m\u001b[37m\u001b[0m \u001b[1m4s\u001b[0m 938ms/step - accuracy: 0.9427 - loss: 0.1490 - val_accuracy: 0.5078 - val_loss: 3.9570\n",
      "Epoch 10/10\n",
      "\u001b[1m4/4\u001b[0m \u001b[32m━━━━━━━━━━━━━━━━━━━━\u001b[0m\u001b[37m\u001b[0m \u001b[1m4s\u001b[0m 937ms/step - accuracy: 0.9279 - loss: 0.1979 - val_accuracy: 0.5156 - val_loss: 3.4069\n"
     ]
    }
   ],
   "source": [
    "with strategy.scope():\n",
    "    model = tf.keras.Sequential([\n",
    "        EfficientNetB0(include_top=False, input_shape=(224, 224, 3), pooling='avg'),\n",
    "        layers.Dense(1, activation='sigmoid')\n",
    "    ])\n",
    "\n",
    "    model.compile(\n",
    "        optimizer='adam',\n",
    "        loss='binary_crossentropy',\n",
    "        metrics=['accuracy']\n",
    "    )\n",
    "\n",
    "# Step 4: Train Model\n",
    "epochs = 10\n",
    "history = model.fit(\n",
    "    train_ds,\n",
    "    validation_data=val_ds,\n",
    "    epochs=epochs,\n",
    "    steps_per_epoch=len(train_ds) // batch_size,\n",
    "    validation_steps=len(val_ds) // batch_size\n",
    ")\n",
    "\n",
    "# Step 5: Save Model\n",
    "model.save(\"efficientnet_cifake.h5\")"
   ]
  },
  {
   "cell_type": "markdown",
   "id": "8cee379d",
   "metadata": {
    "papermill": {
     "duration": 0.005623,
     "end_time": "2025-01-19T16:40:49.738421",
     "exception": false,
     "start_time": "2025-01-19T16:40:49.732798",
     "status": "completed"
    },
    "tags": []
   },
   "source": [
    "# On Test Dataset"
   ]
  },
  {
   "cell_type": "code",
   "execution_count": 6,
   "id": "90634ab8",
   "metadata": {
    "execution": {
     "iopub.execute_input": "2025-01-19T16:40:49.752125Z",
     "iopub.status.busy": "2025-01-19T16:40:49.751756Z",
     "iopub.status.idle": "2025-01-19T16:41:03.114752Z",
     "shell.execute_reply": "2025-01-19T16:41:03.114052Z"
    },
    "papermill": {
     "duration": 13.372346,
     "end_time": "2025-01-19T16:41:03.116829",
     "exception": false,
     "start_time": "2025-01-19T16:40:49.744483",
     "status": "completed"
    },
    "tags": []
   },
   "outputs": [
    {
     "name": "stdout",
     "output_type": "stream",
     "text": [
      "Found 20000 files belonging to 2 classes.\n"
     ]
    }
   ],
   "source": [
    "import tensorflow as tf\n",
    "\n",
    "# Define the same preprocessing steps\n",
    "def preprocess_image(image, label):\n",
    "    image = tf.image.resize(image, (224, 224))  # Resize for EfficientNet\n",
    "    image = image / 255.0  # Normalize to [0, 1]\n",
    "    return image, label\n",
    "\n",
    "# Load test dataset\n",
    "test_dataset = tf.keras.preprocessing.image_dataset_from_directory(\n",
    "    '/kaggle/input/cifake-real-and-ai-generated-synthetic-images/test',\n",
    "    image_size=(224, 224),  # Resize for EfficientNet\n",
    "    batch_size=32,\n",
    "    shuffle=False  # Do not shuffle for consistent evaluation\n",
    ")\n",
    "\n",
    "# Apply preprocessing\n",
    "test_dataset = test_dataset.map(preprocess_image)\n"
   ]
  },
  {
   "cell_type": "code",
   "execution_count": 7,
   "id": "2cf4d580",
   "metadata": {
    "execution": {
     "iopub.execute_input": "2025-01-19T16:41:03.131240Z",
     "iopub.status.busy": "2025-01-19T16:41:03.130500Z",
     "iopub.status.idle": "2025-01-19T16:41:36.536804Z",
     "shell.execute_reply": "2025-01-19T16:41:36.536019Z"
    },
    "papermill": {
     "duration": 33.415229,
     "end_time": "2025-01-19T16:41:36.538467",
     "exception": false,
     "start_time": "2025-01-19T16:41:03.123238",
     "status": "completed"
    },
    "tags": []
   },
   "outputs": [
    {
     "name": "stdout",
     "output_type": "stream",
     "text": [
      "\u001b[1m625/625\u001b[0m \u001b[32m━━━━━━━━━━━━━━━━━━━━\u001b[0m\u001b[37m\u001b[0m \u001b[1m33s\u001b[0m 52ms/step - accuracy: 0.8456 - loss: 1.2708\n",
      "Test Loss: 4.1154\n",
      "Test Accuracy: 0.50%\n"
     ]
    }
   ],
   "source": [
    "# Evaluate the model on the test dataset\n",
    "test_loss, test_accuracy = model.evaluate(test_dataset)\n",
    "print(f\"Test Loss: {test_loss:.4f}\")\n",
    "print(f\"Test Accuracy: {test_accuracy:.2f}%\")"
   ]
  }
 ],
 "metadata": {
  "kaggle": {
   "accelerator": "gpu",
   "dataSources": [
    {
     "datasetId": 3041726,
     "sourceId": 5256696,
     "sourceType": "datasetVersion"
    }
   ],
   "dockerImageVersionId": 30788,
   "isGpuEnabled": true,
   "isInternetEnabled": true,
   "language": "python",
   "sourceType": "notebook"
  },
  "kernelspec": {
   "display_name": "Python 3",
   "language": "python",
   "name": "python3"
  },
  "language_info": {
   "codemirror_mode": {
    "name": "ipython",
    "version": 3
   },
   "file_extension": ".py",
   "mimetype": "text/x-python",
   "name": "python",
   "nbconvert_exporter": "python",
   "pygments_lexer": "ipython3",
   "version": "3.10.14"
  },
  "papermill": {
   "default_parameters": {},
   "duration": 195.80221,
   "end_time": "2025-01-19T16:41:40.612284",
   "environment_variables": {},
   "exception": null,
   "input_path": "__notebook__.ipynb",
   "output_path": "__notebook__.ipynb",
   "parameters": {},
   "start_time": "2025-01-19T16:38:24.810074",
   "version": "2.6.0"
  }
 },
 "nbformat": 4,
 "nbformat_minor": 5
}
