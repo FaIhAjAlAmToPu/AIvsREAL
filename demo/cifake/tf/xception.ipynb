{
 "cells": [
  {
   "cell_type": "code",
   "execution_count": 1,
   "id": "e8515d4d",
   "metadata": {
    "_cell_guid": "b1076dfc-b9ad-4769-8c92-a6c4dae69d19",
    "_uuid": "8f2839f25d086af736a60e9eeb907d3b93b6e0e5",
    "execution": {
     "iopub.execute_input": "2025-01-19T06:56:50.310098Z",
     "iopub.status.busy": "2025-01-19T06:56:50.309771Z",
     "iopub.status.idle": "2025-01-19T06:56:54.611419Z",
     "shell.execute_reply": "2025-01-19T06:56:54.610316Z"
    },
    "papermill": {
     "duration": 4.307413,
     "end_time": "2025-01-19T06:56:54.613212",
     "exception": false,
     "start_time": "2025-01-19T06:56:50.305799",
     "status": "completed"
    },
    "tags": []
   },
   "outputs": [
    {
     "name": "stdout",
     "output_type": "stream",
     "text": [
      "Requirement already satisfied: tensorflow in /usr/local/lib/python3.10/dist-packages (2.17.1)\r\n",
      "Requirement already satisfied: absl-py>=1.0.0 in /usr/local/lib/python3.10/dist-packages (from tensorflow) (1.4.0)\r\n",
      "Requirement already satisfied: astunparse>=1.6.0 in /usr/local/lib/python3.10/dist-packages (from tensorflow) (1.6.3)\r\n",
      "Requirement already satisfied: flatbuffers>=24.3.25 in /usr/local/lib/python3.10/dist-packages (from tensorflow) (24.3.25)\r\n",
      "Requirement already satisfied: gast!=0.5.0,!=0.5.1,!=0.5.2,>=0.2.1 in /usr/local/lib/python3.10/dist-packages (from tensorflow) (0.6.0)\r\n",
      "Requirement already satisfied: google-pasta>=0.1.1 in /usr/local/lib/python3.10/dist-packages (from tensorflow) (0.2.0)\r\n",
      "Requirement already satisfied: h5py>=3.10.0 in /usr/local/lib/python3.10/dist-packages (from tensorflow) (3.12.1)\r\n",
      "Requirement already satisfied: libclang>=13.0.0 in /usr/local/lib/python3.10/dist-packages (from tensorflow) (18.1.1)\r\n",
      "Requirement already satisfied: ml-dtypes<0.5.0,>=0.3.1 in /usr/local/lib/python3.10/dist-packages (from tensorflow) (0.4.1)\r\n",
      "Requirement already satisfied: opt-einsum>=2.3.2 in /usr/local/lib/python3.10/dist-packages (from tensorflow) (3.4.0)\r\n",
      "Requirement already satisfied: packaging in /usr/local/lib/python3.10/dist-packages (from tensorflow) (24.2)\r\n",
      "Requirement already satisfied: protobuf!=4.21.0,!=4.21.1,!=4.21.2,!=4.21.3,!=4.21.4,!=4.21.5,<5.0.0dev,>=3.20.3 in /usr/local/lib/python3.10/dist-packages (from tensorflow) (3.20.3)\r\n",
      "Requirement already satisfied: requests<3,>=2.21.0 in /usr/local/lib/python3.10/dist-packages (from tensorflow) (2.32.3)\r\n",
      "Requirement already satisfied: setuptools in /usr/local/lib/python3.10/dist-packages (from tensorflow) (75.1.0)\r\n",
      "Requirement already satisfied: six>=1.12.0 in /usr/local/lib/python3.10/dist-packages (from tensorflow) (1.17.0)\r\n",
      "Requirement already satisfied: termcolor>=1.1.0 in /usr/local/lib/python3.10/dist-packages (from tensorflow) (2.5.0)\r\n",
      "Requirement already satisfied: typing-extensions>=3.6.6 in /usr/local/lib/python3.10/dist-packages (from tensorflow) (4.12.2)\r\n",
      "Requirement already satisfied: wrapt>=1.11.0 in /usr/local/lib/python3.10/dist-packages (from tensorflow) (1.17.0)\r\n",
      "Requirement already satisfied: grpcio<2.0,>=1.24.3 in /usr/local/lib/python3.10/dist-packages (from tensorflow) (1.68.1)\r\n",
      "Requirement already satisfied: tensorboard<2.18,>=2.17 in /usr/local/lib/python3.10/dist-packages (from tensorflow) (2.17.1)\r\n",
      "Requirement already satisfied: keras>=3.2.0 in /usr/local/lib/python3.10/dist-packages (from tensorflow) (3.5.0)\r\n",
      "Requirement already satisfied: tensorflow-io-gcs-filesystem>=0.23.1 in /usr/local/lib/python3.10/dist-packages (from tensorflow) (0.37.1)\r\n",
      "Requirement already satisfied: numpy<2.0.0,>=1.23.5 in /usr/local/lib/python3.10/dist-packages (from tensorflow) (1.26.4)\r\n",
      "Requirement already satisfied: wheel<1.0,>=0.23.0 in /usr/local/lib/python3.10/dist-packages (from astunparse>=1.6.0->tensorflow) (0.45.1)\r\n",
      "Requirement already satisfied: rich in /usr/local/lib/python3.10/dist-packages (from keras>=3.2.0->tensorflow) (13.9.4)\r\n",
      "Requirement already satisfied: namex in /usr/local/lib/python3.10/dist-packages (from keras>=3.2.0->tensorflow) (0.0.8)\r\n",
      "Requirement already satisfied: optree in /usr/local/lib/python3.10/dist-packages (from keras>=3.2.0->tensorflow) (0.13.1)\r\n",
      "Requirement already satisfied: mkl_fft in /usr/local/lib/python3.10/dist-packages (from numpy<2.0.0,>=1.23.5->tensorflow) (1.3.8)\r\n",
      "Requirement already satisfied: mkl_random in /usr/local/lib/python3.10/dist-packages (from numpy<2.0.0,>=1.23.5->tensorflow) (1.2.4)\r\n",
      "Requirement already satisfied: mkl_umath in /usr/local/lib/python3.10/dist-packages (from numpy<2.0.0,>=1.23.5->tensorflow) (0.1.1)\r\n",
      "Requirement already satisfied: mkl in /usr/local/lib/python3.10/dist-packages (from numpy<2.0.0,>=1.23.5->tensorflow) (2025.0.1)\r\n",
      "Requirement already satisfied: tbb4py in /usr/local/lib/python3.10/dist-packages (from numpy<2.0.0,>=1.23.5->tensorflow) (2022.0.0)\r\n",
      "Requirement already satisfied: mkl-service in /usr/local/lib/python3.10/dist-packages (from numpy<2.0.0,>=1.23.5->tensorflow) (2.4.1)\r\n",
      "Requirement already satisfied: charset-normalizer<4,>=2 in /usr/local/lib/python3.10/dist-packages (from requests<3,>=2.21.0->tensorflow) (3.4.0)\r\n",
      "Requirement already satisfied: idna<4,>=2.5 in /usr/local/lib/python3.10/dist-packages (from requests<3,>=2.21.0->tensorflow) (3.10)\r\n",
      "Requirement already satisfied: urllib3<3,>=1.21.1 in /usr/local/lib/python3.10/dist-packages (from requests<3,>=2.21.0->tensorflow) (2.2.3)\r\n",
      "Requirement already satisfied: certifi>=2017.4.17 in /usr/local/lib/python3.10/dist-packages (from requests<3,>=2.21.0->tensorflow) (2024.12.14)\r\n",
      "Requirement already satisfied: markdown>=2.6.8 in /usr/local/lib/python3.10/dist-packages (from tensorboard<2.18,>=2.17->tensorflow) (3.7)\r\n",
      "Requirement already satisfied: tensorboard-data-server<0.8.0,>=0.7.0 in /usr/local/lib/python3.10/dist-packages (from tensorboard<2.18,>=2.17->tensorflow) (0.7.2)\r\n",
      "Requirement already satisfied: werkzeug>=1.0.1 in /usr/local/lib/python3.10/dist-packages (from tensorboard<2.18,>=2.17->tensorflow) (3.1.3)\r\n",
      "Requirement already satisfied: MarkupSafe>=2.1.1 in /usr/local/lib/python3.10/dist-packages (from werkzeug>=1.0.1->tensorboard<2.18,>=2.17->tensorflow) (3.0.2)\r\n",
      "Requirement already satisfied: intel-openmp>=2024 in /usr/local/lib/python3.10/dist-packages (from mkl->numpy<2.0.0,>=1.23.5->tensorflow) (2024.2.0)\r\n",
      "Requirement already satisfied: tbb==2022.* in /usr/local/lib/python3.10/dist-packages (from mkl->numpy<2.0.0,>=1.23.5->tensorflow) (2022.0.0)\r\n",
      "Requirement already satisfied: tcmlib==1.* in /usr/local/lib/python3.10/dist-packages (from tbb==2022.*->mkl->numpy<2.0.0,>=1.23.5->tensorflow) (1.2.0)\r\n",
      "Requirement already satisfied: intel-cmplr-lib-rt in /usr/local/lib/python3.10/dist-packages (from mkl_umath->numpy<2.0.0,>=1.23.5->tensorflow) (2024.2.0)\r\n",
      "Requirement already satisfied: markdown-it-py>=2.2.0 in /usr/local/lib/python3.10/dist-packages (from rich->keras>=3.2.0->tensorflow) (3.0.0)\r\n",
      "Requirement already satisfied: pygments<3.0.0,>=2.13.0 in /usr/local/lib/python3.10/dist-packages (from rich->keras>=3.2.0->tensorflow) (2.18.0)\r\n",
      "Requirement already satisfied: intel-cmplr-lib-ur==2024.2.0 in /usr/local/lib/python3.10/dist-packages (from intel-openmp>=2024->mkl->numpy<2.0.0,>=1.23.5->tensorflow) (2024.2.0)\r\n",
      "Requirement already satisfied: mdurl~=0.1 in /usr/local/lib/python3.10/dist-packages (from markdown-it-py>=2.2.0->rich->keras>=3.2.0->tensorflow) (0.1.2)\r\n"
     ]
    }
   ],
   "source": [
    "!pip install tensorflow"
   ]
  },
  {
   "cell_type": "code",
   "execution_count": 2,
   "id": "1f8cb249",
   "metadata": {
    "execution": {
     "iopub.execute_input": "2025-01-19T06:56:54.619058Z",
     "iopub.status.busy": "2025-01-19T06:56:54.618818Z",
     "iopub.status.idle": "2025-01-19T06:57:10.205368Z",
     "shell.execute_reply": "2025-01-19T06:57:10.204428Z"
    },
    "papermill": {
     "duration": 15.591012,
     "end_time": "2025-01-19T06:57:10.206894",
     "exception": false,
     "start_time": "2025-01-19T06:56:54.615882",
     "status": "completed"
    },
    "tags": []
   },
   "outputs": [
    {
     "name": "stdout",
     "output_type": "stream",
     "text": [
      "Downloading data from https://storage.googleapis.com/tensorflow/keras-applications/xception/xception_weights_tf_dim_ordering_tf_kernels_notop.h5\n",
      "\u001b[1m83683744/83683744\u001b[0m \u001b[32m━━━━━━━━━━━━━━━━━━━━\u001b[0m\u001b[37m\u001b[0m \u001b[1m0s\u001b[0m 0us/step\n"
     ]
    }
   ],
   "source": [
    "from tensorflow.keras.applications import Xception  \n",
    "from tensorflow.keras.models import Model  \n",
    "from tensorflow.keras.layers import Dense, GlobalAveragePooling2D  \n",
    "from tensorflow.keras.preprocessing.image import ImageDataGenerator  \n",
    "\n",
    "base_model = Xception(weights='imagenet', include_top=False)  \n",
    "x = base_model.output  \n",
    "x = GlobalAveragePooling2D()(x)  \n",
    "x = Dense(1024, activation='relu')(x)  \n",
    "predictions = Dense(2, activation='softmax')(x) \n",
    "\n",
    "model = Model(inputs=base_model.input, outputs=predictions)  \n",
    "\n",
    "# Freeze the base model layers  \n",
    "for layer in base_model.layers:  \n",
    "    layer.trainable = False"
   ]
  },
  {
   "cell_type": "code",
   "execution_count": 3,
   "id": "5560391a",
   "metadata": {
    "execution": {
     "iopub.execute_input": "2025-01-19T06:57:10.214900Z",
     "iopub.status.busy": "2025-01-19T06:57:10.214442Z",
     "iopub.status.idle": "2025-01-19T06:57:10.226436Z",
     "shell.execute_reply": "2025-01-19T06:57:10.225639Z"
    },
    "papermill": {
     "duration": 0.017767,
     "end_time": "2025-01-19T06:57:10.227724",
     "exception": false,
     "start_time": "2025-01-19T06:57:10.209957",
     "status": "completed"
    },
    "tags": []
   },
   "outputs": [],
   "source": [
    "model.compile(optimizer='adam', loss='categorical_crossentropy', metrics=['accuracy'])"
   ]
  },
  {
   "cell_type": "code",
   "execution_count": 4,
   "id": "52a6c662",
   "metadata": {
    "execution": {
     "iopub.execute_input": "2025-01-19T06:57:10.233709Z",
     "iopub.status.busy": "2025-01-19T06:57:10.233490Z",
     "iopub.status.idle": "2025-01-19T06:58:53.753070Z",
     "shell.execute_reply": "2025-01-19T06:58:53.752417Z"
    },
    "papermill": {
     "duration": 103.524054,
     "end_time": "2025-01-19T06:58:53.754462",
     "exception": false,
     "start_time": "2025-01-19T06:57:10.230408",
     "status": "completed"
    },
    "tags": []
   },
   "outputs": [
    {
     "name": "stdout",
     "output_type": "stream",
     "text": [
      "Found 80000 images belonging to 2 classes.\n",
      "Found 20000 images belonging to 2 classes.\n"
     ]
    }
   ],
   "source": [
    "train_datagen = ImageDataGenerator(rescale=1./255, validation_split=0.2)  \n",
    "train_generator = train_datagen.flow_from_directory(  \n",
    "    '/kaggle/input/cifake-real-and-ai-generated-synthetic-images/train',  # Path to your training data  \n",
    "    target_size=(299, 299),  \n",
    "    batch_size=32,  \n",
    "    class_mode='categorical',  \n",
    "    subset='training')  \n",
    "validation_generator = train_datagen.flow_from_directory(  \n",
    "    '/kaggle/input/cifake-real-and-ai-generated-synthetic-images/train',  \n",
    "    target_size=(299, 299),  \n",
    "    batch_size=32,  \n",
    "    class_mode='categorical',  \n",
    "    subset='validation')"
   ]
  },
  {
   "cell_type": "code",
   "execution_count": 5,
   "id": "44194a78",
   "metadata": {
    "execution": {
     "iopub.execute_input": "2025-01-19T06:58:53.761185Z",
     "iopub.status.busy": "2025-01-19T06:58:53.760958Z",
     "iopub.status.idle": "2025-01-19T08:08:16.837473Z",
     "shell.execute_reply": "2025-01-19T08:08:16.836599Z"
    },
    "papermill": {
     "duration": 4164.335961,
     "end_time": "2025-01-19T08:08:18.093574",
     "exception": false,
     "start_time": "2025-01-19T06:58:53.757613",
     "status": "completed"
    },
    "tags": []
   },
   "outputs": [
    {
     "name": "stdout",
     "output_type": "stream",
     "text": [
      "Epoch 1/10\n"
     ]
    },
    {
     "name": "stderr",
     "output_type": "stream",
     "text": [
      "/usr/local/lib/python3.10/dist-packages/keras/src/trainers/data_adapters/py_dataset_adapter.py:122: UserWarning: Your `PyDataset` class should call `super().__init__(**kwargs)` in its constructor. `**kwargs` can include `workers`, `use_multiprocessing`, `max_queue_size`. Do not pass these arguments to `fit()`, as they will be ignored.\n",
      "  self._warn_if_super_not_called()\n"
     ]
    },
    {
     "name": "stdout",
     "output_type": "stream",
     "text": [
      "\u001b[1m2500/2500\u001b[0m \u001b[32m━━━━━━━━━━━━━━━━━━━━\u001b[0m\u001b[37m\u001b[0m \u001b[1m740s\u001b[0m 290ms/step - accuracy: 0.8624 - loss: 0.3156 - val_accuracy: 0.9098 - val_loss: 0.2186\n",
      "Epoch 2/10\n",
      "\u001b[1m2500/2500\u001b[0m \u001b[32m━━━━━━━━━━━━━━━━━━━━\u001b[0m\u001b[37m\u001b[0m \u001b[1m388s\u001b[0m 155ms/step - accuracy: 0.9183 - loss: 0.1995 - val_accuracy: 0.9287 - val_loss: 0.1815\n",
      "Epoch 3/10\n",
      "\u001b[1m2500/2500\u001b[0m \u001b[32m━━━━━━━━━━━━━━━━━━━━\u001b[0m\u001b[37m\u001b[0m \u001b[1m382s\u001b[0m 153ms/step - accuracy: 0.9345 - loss: 0.1622 - val_accuracy: 0.9272 - val_loss: 0.1847\n",
      "Epoch 4/10\n",
      "\u001b[1m2500/2500\u001b[0m \u001b[32m━━━━━━━━━━━━━━━━━━━━\u001b[0m\u001b[37m\u001b[0m \u001b[1m377s\u001b[0m 151ms/step - accuracy: 0.9499 - loss: 0.1272 - val_accuracy: 0.9261 - val_loss: 0.1901\n",
      "Epoch 5/10\n",
      "\u001b[1m2500/2500\u001b[0m \u001b[32m━━━━━━━━━━━━━━━━━━━━\u001b[0m\u001b[37m\u001b[0m \u001b[1m378s\u001b[0m 151ms/step - accuracy: 0.9590 - loss: 0.1049 - val_accuracy: 0.9310 - val_loss: 0.1901\n",
      "Epoch 6/10\n",
      "\u001b[1m2500/2500\u001b[0m \u001b[32m━━━━━━━━━━━━━━━━━━━━\u001b[0m\u001b[37m\u001b[0m \u001b[1m378s\u001b[0m 151ms/step - accuracy: 0.9680 - loss: 0.0846 - val_accuracy: 0.9277 - val_loss: 0.1999\n",
      "Epoch 7/10\n",
      "\u001b[1m2500/2500\u001b[0m \u001b[32m━━━━━━━━━━━━━━━━━━━━\u001b[0m\u001b[37m\u001b[0m \u001b[1m378s\u001b[0m 151ms/step - accuracy: 0.9735 - loss: 0.0697 - val_accuracy: 0.9291 - val_loss: 0.2092\n",
      "Epoch 8/10\n",
      "\u001b[1m2500/2500\u001b[0m \u001b[32m━━━━━━━━━━━━━━━━━━━━\u001b[0m\u001b[37m\u001b[0m \u001b[1m380s\u001b[0m 152ms/step - accuracy: 0.9806 - loss: 0.0536 - val_accuracy: 0.9305 - val_loss: 0.2197\n",
      "Epoch 9/10\n",
      "\u001b[1m2500/2500\u001b[0m \u001b[32m━━━━━━━━━━━━━━━━━━━━\u001b[0m\u001b[37m\u001b[0m \u001b[1m380s\u001b[0m 152ms/step - accuracy: 0.9837 - loss: 0.0442 - val_accuracy: 0.9291 - val_loss: 0.2497\n",
      "Epoch 10/10\n",
      "\u001b[1m2500/2500\u001b[0m \u001b[32m━━━━━━━━━━━━━━━━━━━━\u001b[0m\u001b[37m\u001b[0m \u001b[1m381s\u001b[0m 152ms/step - accuracy: 0.9882 - loss: 0.0337 - val_accuracy: 0.9294 - val_loss: 0.2653\n"
     ]
    },
    {
     "data": {
      "text/plain": [
       "<keras.src.callbacks.history.History at 0x7f11b46ce8c0>"
      ]
     },
     "execution_count": 5,
     "metadata": {},
     "output_type": "execute_result"
    }
   ],
   "source": [
    "model.fit(train_generator, validation_data=validation_generator, epochs=10)"
   ]
  },
  {
   "cell_type": "code",
   "execution_count": 6,
   "id": "99080fbf",
   "metadata": {
    "execution": {
     "iopub.execute_input": "2025-01-19T08:08:20.616852Z",
     "iopub.status.busy": "2025-01-19T08:08:20.616460Z",
     "iopub.status.idle": "2025-01-19T08:08:21.035014Z",
     "shell.execute_reply": "2025-01-19T08:08:21.034021Z"
    },
    "papermill": {
     "duration": 1.675734,
     "end_time": "2025-01-19T08:08:21.036786",
     "exception": false,
     "start_time": "2025-01-19T08:08:19.361052",
     "status": "completed"
    },
    "tags": []
   },
   "outputs": [],
   "source": [
    "model.save('xception_model.h5')"
   ]
  },
  {
   "cell_type": "code",
   "execution_count": 7,
   "id": "dc82717a",
   "metadata": {
    "execution": {
     "iopub.execute_input": "2025-01-19T08:08:23.557346Z",
     "iopub.status.busy": "2025-01-19T08:08:23.556987Z",
     "iopub.status.idle": "2025-01-19T08:08:44.189732Z",
     "shell.execute_reply": "2025-01-19T08:08:44.188997Z"
    },
    "papermill": {
     "duration": 21.8922,
     "end_time": "2025-01-19T08:08:44.191109",
     "exception": false,
     "start_time": "2025-01-19T08:08:22.298909",
     "status": "completed"
    },
    "tags": []
   },
   "outputs": [
    {
     "name": "stdout",
     "output_type": "stream",
     "text": [
      "Found 20000 images belonging to 2 classes.\n"
     ]
    }
   ],
   "source": [
    "from tensorflow.keras.preprocessing.image import ImageDataGenerator  \n",
    "\n",
    "# Create a test data generator  \n",
    "test_datagen = ImageDataGenerator(rescale=1./255)  \n",
    "\n",
    "test_generator = test_datagen.flow_from_directory(  \n",
    "    '/kaggle/input/cifake-real-and-ai-generated-synthetic-images/test',  # Path to your test dataset  \n",
    "    target_size=(299, 299),  # Resize the images to match the input size  \n",
    "    batch_size=32,  \n",
    "    class_mode='categorical',  # Set to 'categorical' for multi-class  \n",
    "    shuffle=False  # Important: Do not shuffle the test data  \n",
    ")"
   ]
  },
  {
   "cell_type": "code",
   "execution_count": 8,
   "id": "f0fd1d82",
   "metadata": {
    "execution": {
     "iopub.execute_input": "2025-01-19T08:08:46.714051Z",
     "iopub.status.busy": "2025-01-19T08:08:46.713488Z",
     "iopub.status.idle": "2025-01-19T08:11:14.711993Z",
     "shell.execute_reply": "2025-01-19T08:11:14.711315Z"
    },
    "papermill": {
     "duration": 149.251669,
     "end_time": "2025-01-19T08:11:14.713342",
     "exception": false,
     "start_time": "2025-01-19T08:08:45.461673",
     "status": "completed"
    },
    "tags": []
   },
   "outputs": [
    {
     "name": "stdout",
     "output_type": "stream",
     "text": [
      "\u001b[1m625/625\u001b[0m \u001b[32m━━━━━━━━━━━━━━━━━━━━\u001b[0m\u001b[37m\u001b[0m \u001b[1m148s\u001b[0m 236ms/step - accuracy: 0.9324 - loss: 0.2640\n",
      "Test Loss: 0.27196863293647766\n",
      "Test Accuracy: 0.9302999973297119\n"
     ]
    }
   ],
   "source": [
    "# Evaluate the model on the test data  \n",
    "test_loss, test_accuracy = model.evaluate(test_generator)  \n",
    "\n",
    "print(f'Test Loss: {test_loss}')  \n",
    "print(f'Test Accuracy: {test_accuracy}')"
   ]
  }
 ],
 "metadata": {
  "kaggle": {
   "accelerator": "gpu",
   "dataSources": [
    {
     "datasetId": 3041726,
     "sourceId": 5256696,
     "sourceType": "datasetVersion"
    }
   ],
   "dockerImageVersionId": 30840,
   "isGpuEnabled": true,
   "isInternetEnabled": true,
   "language": "python",
   "sourceType": "notebook"
  },
  "kernelspec": {
   "display_name": "Python 3",
   "language": "python",
   "name": "python3"
  },
  "language_info": {
   "codemirror_mode": {
    "name": "ipython",
    "version": 3
   },
   "file_extension": ".py",
   "mimetype": "text/x-python",
   "name": "python",
   "nbconvert_exporter": "python",
   "pygments_lexer": "ipython3",
   "version": "3.10.12"
  },
  "papermill": {
   "default_parameters": {},
   "duration": 4470.688047,
   "end_time": "2025-01-19T08:11:18.388737",
   "environment_variables": {},
   "exception": null,
   "input_path": "__notebook__.ipynb",
   "output_path": "__notebook__.ipynb",
   "parameters": {},
   "start_time": "2025-01-19T06:56:47.700690",
   "version": "2.6.0"
  }
 },
 "nbformat": 4,
 "nbformat_minor": 5
}
